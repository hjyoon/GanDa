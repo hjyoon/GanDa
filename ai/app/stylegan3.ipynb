{
  "nbformat": 4,
  "nbformat_minor": 0,
  "metadata": {
    "colab": {
      "name": "stylegan3.ipynb",
      "provenance": [],
      "collapsed_sections": []
    },
    "kernelspec": {
      "name": "python3",
      "display_name": "Python 3"
    },
    "language_info": {
      "name": "python"
    }
  },
  "cells": [
    {
      "cell_type": "markdown",
      "source": [
        "# Stylegan3 from NVIDIA\n",
        "\n",
        "* 이 파일은 stylegan3를 colab gpu서버를 활용하여 학습을 해볼 수 있는 코드를 정리한 파일입니다.\n",
        "* 간단하게 실제로 실행해볼 수 있도록 설계했으므로 좀 더 자세하게 알고 싶다면 [이 곳](https://github.com/NVlabs/stylegan3)을 클릭하여 NVIDIA의 stylegan3을 참고하면 됩니다.\n",
        "* 학습에 사용할 이미지를 필요로 하므로 **반드시** 구하여 사용하시기 바랍니다."
      ],
      "metadata": {
        "id": "hv-FLUj6oJwr"
      }
    },
    {
      "cell_type": "markdown",
      "source": [
        "학습은 아래와 같이 git clone, 데이터 전처리, 학습 총 3단계로 진행됩니다."
      ],
      "metadata": {
        "id": "m9e-VG3HoebU"
      }
    },
    {
      "cell_type": "markdown",
      "source": [
        "## 1. git clone\n",
        "* 학습에 앞서 필요한 패키지를 설치할 필요가 있습니다. 아래 코드를 실행합니다.\n"
      ],
      "metadata": {
        "id": "rXuCzhfhpG2F"
      }
    },
    {
      "cell_type": "code",
      "source": [
        "!pip install einops ninja gdown torch==1.10.0"
      ],
      "metadata": {
        "id": "Epr0XZQ7ppoL"
      },
      "execution_count": null,
      "outputs": []
    },
    {
      "cell_type": "markdown",
      "source": [
        "* colab은 구글 드라이브와 연동하여 사용할 수 있습니다. \n",
        "* 아래 코드를 순차적으로 실행한다면 구글 드라이브에 stylegan을 저장하고 활용할 수 있습니다."
      ],
      "metadata": {
        "id": "MrtiitZQrwFW"
      }
    },
    {
      "cell_type": "code",
      "source": [
        "from google.colab import drive\n",
        "drive.mount('/content/drive')"
      ],
      "metadata": {
        "colab": {
          "base_uri": "https://localhost:8080/"
        },
        "id": "4bTjWklgsaYS",
        "outputId": "c66a62b3-ebde-4475-f366-1b2d9f4950e3"
      },
      "execution_count": 4,
      "outputs": [
        {
          "output_type": "stream",
          "name": "stdout",
          "text": [
            "Mounted at /content/drive\n"
          ]
        }
      ]
    },
    {
      "cell_type": "code",
      "source": [
        "!git clone https://github.com/bvshyam/stylegan3.git /content/drive/MyDrive/stylegan3/"
      ],
      "metadata": {
        "id": "yX2-1tTHsh_o"
      },
      "execution_count": null,
      "outputs": []
    },
    {
      "cell_type": "markdown",
      "source": [
        "# 2. 데이터 전처리\n",
        "* 학습에 사용할 데이터를 전처리 할 필요가 있습니다. 먼저 이미지가 들어있는  폴더를 내드라이브에 올리고 파일이 위치한 경로를 가져옵니다.\n",
        "* 그 후 아래 코드를 실행하면 됩니다.\n",
        "*아래 코드는 stylegan 폴더 내 data폴더를 만들고 그 안에 저장한 cats폴더속 cat이미지를 활용하여 전처리를 하는 코드입니다."
      ],
      "metadata": {
        "id": "tRgub4RgtM5D"
      }
    },
    {
      "cell_type": "markdown",
      "source": [
        "* 변수 설명\n",
        "\n",
        "data_dir : 훈련에 사용할 이미지들이 위차한 폴더 경로\n",
        "\n",
        "dest : 전처리한 데이터를 저장할 폴더 경로와 파일이름\n",
        "\n",
        "resolution : 전처리 후 저장될 이미지 크기 ex) 256x256 입력시 가로 256 세로 256 크기의 이미지로 전처리 됨."
      ],
      "metadata": {
        "id": "QB_hnWkKvdrP"
      }
    },
    {
      "cell_type": "code",
      "source": [
        "data_dir = '/content/drive/MyDrive/stylegan3/data/cats/'\n",
        "dest = '/content/drive/MyDrive/stylegan3/data/cats-256x256.zip'\n",
        "resolution = '256x256'\n",
        "\n",
        "!python /content/drive/MyDrive/stylegan3/dataset_tool.py --source=$data_dir --dest=$dest --resolution=$resolution\n"
      ],
      "metadata": {
        "id": "qb0K3EyHuL96"
      },
      "execution_count": null,
      "outputs": []
    },
    {
      "cell_type": "markdown",
      "source": [
        "# 학습\n",
        "* 마지막 학습 단계입니다. 전처리한 데이터를 이용하여 학습을 할 수 있습니다.\n",
        "* 파일 경로를 잘 설정하면 문제없이 학습 가능합니다."
      ],
      "metadata": {
        "id": "zb0hz0XkwTQ7"
      }
    },
    {
      "cell_type": "markdown",
      "source": [
        "* 변수 설명\n",
        "\n",
        "out_dir : 결과 데이터를 저장할 경로\n",
        "\n",
        "data : 학습에 사용할 전처리된 데이터의 경로\n",
        "\n",
        "gpus : 학습에 사용할 gpu 갯수, 최대8까지 가능\n",
        "\n",
        "cfg : stylegan3-t, stylegan3-r, stylegan2 선택 가능\n",
        "\n",
        "batch : 전체 batch 크기\n",
        "\n",
        "gamma : R1 정규화 가중치\n",
        "\n",
        "batch-gpu : gpu당 batch 크기, 1개의 gpu만 쓴다면 따로 설정할 필요는 없습니다.\n",
        "\n",
        "kimg : 전체 학습 기간을 결정하는 값.\n",
        "\n",
        "tick : 몇 kimg마다 진행상황을 보여줄것인지 결정하는 값\n",
        "\n",
        "snap : 몇 tick마다 학습 과정을 저장할것인지 결정하는 값\n",
        "\n",
        "resume : 학습에 사용할 pickle 파일이 위치한 경로\n",
        "\n",
        "freezed : 고정할 D의 시작 층"
      ],
      "metadata": {
        "id": "kareKQK0yhdI"
      }
    },
    {
      "cell_type": "code",
      "source": [
        "out_dir = '/content/drive/MyDrive/stylegan3/results/'\n",
        "data = '/content/drive/MyDrive/stylegan3/data/cats-256x256.zip'\n",
        "gpus = 1\n",
        "cfg = 'stylegan3-t'\n",
        "batch = 8\n",
        "gamma = 50\n",
        "batch-gpu = 8\n",
        "kimg = 100\n",
        "tick = 1\n",
        "snap = 10\n",
        "resume = 'https://api.ngc.nvidia.com/v2/models/nvidia/research/stylegan3/versions/1/files/stylegan3-t-ffhqu-256x256.pkl'\n",
        "freezed = 4\n",
        "\n",
        "!python train.py --outdir=$out_dir --cfg=$cfg --data=$data \\\n",
        "  --gpus=$gpus --batch=$batch --batch-gpu=$batch-gpu --gamma=$gamma --kimg=$kimg --snap=$snap --tick=$tick \\\n",
        "  --resume=$resume --freezed=$freezed"
      ],
      "metadata": {
        "id": "bLugcxINygxp"
      },
      "execution_count": null,
      "outputs": []
    },
    {
      "cell_type": "markdown",
      "source": [
        "# 유사도 계산\n",
        "* 생성된 이미지가 얼마나 실제와 유사한지 판단하고 싶다면 아래 코드에 변수값을 잘 설정하고 실행하면 됩니다."
      ],
      "metadata": {
        "id": "f8hnD16s2Rb5"
      }
    },
    {
      "cell_type": "markdown",
      "source": [
        "* 변수 설명\n",
        "\n",
        "\n",
        "metrics : 사용할 유사도 측정법\n",
        "\n",
        "data : 유사도 측정에 사용할 전처리된 데이터의 경로\n",
        "\n",
        "network : 유사도 측정에 사용할 모델이 있는 pickle파일 경로\n"
      ],
      "metadata": {
        "id": "UilqtpXw2mny"
      }
    },
    {
      "cell_type": "code",
      "source": [
        "metrics = 'fid50k_full'\n",
        "data = '/content/drive/MyDrive/stylegan3/data/cats-256x256.zip'\n",
        "network = 'https://api.ngc.nvidia.com/v2/models/nvidia/research/stylegan3/versions/1/files/stylegan3-t-ffhqu-256x256.pkl'\n",
        "\n",
        "!python /content/drive/MyDrive/WIP/stylegan3/calc_metrics.py --metrics=$metrics --data=$data --network=$network"
      ],
      "metadata": {
        "id": "I7d8rmy32pyS"
      },
      "execution_count": null,
      "outputs": []
    }
  ]
}